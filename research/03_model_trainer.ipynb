{
 "cells": [
  {
   "cell_type": "code",
   "execution_count": 1,
   "metadata": {},
   "outputs": [],
   "source": [
    "import os"
   ]
  },
  {
   "cell_type": "code",
   "execution_count": 2,
   "metadata": {},
   "outputs": [
    {
     "data": {
      "text/plain": [
       "'e:\\\\projects\\\\end_to_end_pneomonia_detection_deep_learning_project_using_MLFLOW_DVC\\\\research'"
      ]
     },
     "execution_count": 2,
     "metadata": {},
     "output_type": "execute_result"
    }
   ],
   "source": [
    "%pwd"
   ]
  },
  {
   "cell_type": "code",
   "execution_count": 3,
   "metadata": {},
   "outputs": [],
   "source": [
    "os.chdir(\"../\")"
   ]
  },
  {
   "cell_type": "code",
   "execution_count": 4,
   "metadata": {},
   "outputs": [
    {
     "data": {
      "text/plain": [
       "'e:\\\\projects\\\\end_to_end_pneomonia_detection_deep_learning_project_using_MLFLOW_DVC'"
      ]
     },
     "execution_count": 4,
     "metadata": {},
     "output_type": "execute_result"
    }
   ],
   "source": [
    "%pwd"
   ]
  },
  {
   "cell_type": "code",
   "execution_count": 5,
   "metadata": {},
   "outputs": [],
   "source": [
    "from dataclasses import dataclass\n",
    "from pathlib import Path\n",
    "\n",
    "\n",
    "@dataclass(frozen=True)\n",
    "class TrainingConfig:\n",
    "    root_dir: Path\n",
    "    trained_model_path: Path\n",
    "    updated_base_model_path: Path\n",
    "    training_data: Path\n",
    "    params_epochs: int\n",
    "    params_batch_size: int\n",
    "    params_is_augmentation: bool\n",
    "    params_image_size: list"
   ]
  },
  {
   "cell_type": "code",
   "execution_count": 6,
   "metadata": {},
   "outputs": [],
   "source": [
    "from cnnClassifier.constants import *\n",
    "from cnnClassifier.utils.common import read_yaml, create_directories\n",
    "import tensorflow as tf"
   ]
  },
  {
   "cell_type": "code",
   "execution_count": 7,
   "metadata": {},
   "outputs": [],
   "source": [
    "class ConfigurationManager:\n",
    "    def __init__(\n",
    "        self,\n",
    "        config_filepath = CONFIG_FILE_PATH,\n",
    "        params_filepath = PARAMS_FILE_PATH):\n",
    "\n",
    "        self.config = read_yaml(config_filepath)\n",
    "        self.params = read_yaml(params_filepath)\n",
    "\n",
    "        create_directories([self.config.artifacts_root])\n",
    "\n",
    "        \n",
    "\n",
    "    def get_training_config(self) -> TrainingConfig:\n",
    "        training = self.config.training\n",
    "        prepare_base_model = self.config.prepare_base_model\n",
    "        params = self.params\n",
    "        training_data = os.path.join(self.config.data_ingestion.unzip_dir, \"pneumonia-detection-data\")\n",
    "        create_directories([\n",
    "            Path(training.root_dir)\n",
    "        ])\n",
    "\n",
    "        training_config = TrainingConfig(\n",
    "            root_dir=Path(training.root_dir),\n",
    "            trained_model_path=Path(training.trained_model_path),\n",
    "            updated_base_model_path=Path(prepare_base_model.updated_base_model_path),\n",
    "            training_data=Path(training_data),\n",
    "            params_epochs=params.EPOCHS,\n",
    "            params_batch_size=params.BATCH_SIZE,\n",
    "            params_is_augmentation=params.AUGMENTATION,\n",
    "            params_image_size=params.IMAGE_SIZE\n",
    "        )\n",
    "\n",
    "        return training_config"
   ]
  },
  {
   "cell_type": "code",
   "execution_count": 8,
   "metadata": {},
   "outputs": [],
   "source": [
    "import os\n",
    "import urllib.request as request\n",
    "from zipfile import ZipFile\n",
    "import tensorflow as tf\n",
    "import time"
   ]
  },
  {
   "cell_type": "code",
   "execution_count": 9,
   "metadata": {},
   "outputs": [],
   "source": [
    "class Training:\n",
    "    def __init__(self, config: TrainingConfig):\n",
    "        self.config = config\n",
    "\n",
    "    \n",
    "    def get_base_model(self):\n",
    "        self.model = tf.keras.models.load_model(\n",
    "            self.config.updated_base_model_path\n",
    "        )\n",
    "\n",
    "    def train_valid_generator(self):\n",
    "\n",
    "        datagenerator_kwargs = dict(\n",
    "            rescale = 1./255,\n",
    "            validation_split=0.20\n",
    "        )\n",
    "\n",
    "        dataflow_kwargs = dict(\n",
    "            target_size=self.config.params_image_size[:-1],\n",
    "            batch_size=self.config.params_batch_size,\n",
    "            interpolation=\"bilinear\"\n",
    "        )\n",
    "\n",
    "        valid_datagenerator = tf.keras.preprocessing.image.ImageDataGenerator(\n",
    "            **datagenerator_kwargs\n",
    "        )\n",
    "\n",
    "        self.valid_generator = valid_datagenerator.flow_from_directory(\n",
    "            directory=self.config.training_data,\n",
    "            subset=\"validation\",\n",
    "            shuffle=False,\n",
    "            **dataflow_kwargs\n",
    "        )\n",
    "\n",
    "        if self.config.params_is_augmentation:\n",
    "            train_datagenerator = tf.keras.preprocessing.image.ImageDataGenerator(\n",
    "                rotation_range=40,\n",
    "                horizontal_flip=True,\n",
    "                width_shift_range=0.2,\n",
    "                height_shift_range=0.2,\n",
    "                shear_range=0.2,\n",
    "                zoom_range=0.2,\n",
    "                **datagenerator_kwargs\n",
    "            )\n",
    "        else:\n",
    "            train_datagenerator = valid_datagenerator\n",
    "\n",
    "        self.train_generator = train_datagenerator.flow_from_directory(\n",
    "            directory=self.config.training_data,\n",
    "            subset=\"training\",\n",
    "            shuffle=True,\n",
    "            **dataflow_kwargs\n",
    "        )\n",
    "\n",
    "    \n",
    "    @staticmethod\n",
    "    def save_model(path: Path, model: tf.keras.Model):\n",
    "        model.save(path)\n",
    "\n",
    "\n",
    "\n",
    "    \n",
    "    def train(self):\n",
    "        self.steps_per_epoch = self.train_generator.samples // self.train_generator.batch_size\n",
    "        self.validation_steps = self.valid_generator.samples // self.valid_generator.batch_size\n",
    "\n",
    "        self.model.fit(\n",
    "            self.train_generator,\n",
    "            epochs=self.config.params_epochs,\n",
    "            steps_per_epoch=self.steps_per_epoch,\n",
    "            validation_steps=self.validation_steps,\n",
    "            validation_data=self.valid_generator\n",
    "        )\n",
    "\n",
    "        self.save_model(\n",
    "            path=self.config.trained_model_path,\n",
    "            model=self.model\n",
    "        )"
   ]
  },
  {
   "cell_type": "code",
   "execution_count": 10,
   "metadata": {},
   "outputs": [
    {
     "name": "stdout",
     "output_type": "stream",
     "text": [
      "[2024-02-17 17:16:13,759: INFO: common: yaml file: config\\config.yaml loaded successfully]\n",
      "[2024-02-17 17:16:13,763: INFO: common: yaml file: params.yaml loaded successfully]\n",
      "[2024-02-17 17:16:13,765: INFO: common: created directory at: artifacts]\n",
      "[2024-02-17 17:16:13,766: INFO: common: created directory at: artifacts\\training]\n"
     ]
    },
    {
     "name": "stdout",
     "output_type": "stream",
     "text": [
      "Found 1170 images belonging to 2 classes.\n",
      "Found 4686 images belonging to 2 classes.\n",
      "Epoch 1/15\n",
      "292/292 [==============================] - 483s 2s/step - loss: 5.5933 - accuracy: 0.7272 - val_loss: 1.0136 - val_accuracy: 0.8570\n",
      "Epoch 2/15\n",
      "292/292 [==============================] - 498s 2s/step - loss: 2.0622 - accuracy: 0.8287 - val_loss: 0.6731 - val_accuracy: 0.8870\n",
      "Epoch 3/15\n",
      "292/292 [==============================] - 466s 2s/step - loss: 1.6526 - accuracy: 0.8443 - val_loss: 1.0721 - val_accuracy: 0.8596\n",
      "Epoch 4/15\n",
      "292/292 [==============================] - 491s 2s/step - loss: 1.7638 - accuracy: 0.8565 - val_loss: 3.2873 - val_accuracy: 0.7277\n",
      "Epoch 5/15\n",
      "292/292 [==============================] - 468s 2s/step - loss: 1.3552 - accuracy: 0.8724 - val_loss: 0.8202 - val_accuracy: 0.8861\n",
      "Epoch 6/15\n",
      "292/292 [==============================] - 446s 2s/step - loss: 1.4888 - accuracy: 0.8687 - val_loss: 0.4730 - val_accuracy: 0.9195\n",
      "Epoch 7/15\n",
      "292/292 [==============================] - 416s 1s/step - loss: 1.3151 - accuracy: 0.8679 - val_loss: 1.2184 - val_accuracy: 0.8579\n",
      "Epoch 8/15\n",
      "292/292 [==============================] - 415s 1s/step - loss: 1.1487 - accuracy: 0.8837 - val_loss: 3.2740 - val_accuracy: 0.7646\n",
      "Epoch 9/15\n",
      "292/292 [==============================] - 416s 1s/step - loss: 1.1060 - accuracy: 0.8863 - val_loss: 1.3168 - val_accuracy: 0.8510\n",
      "Epoch 10/15\n",
      "292/292 [==============================] - 416s 1s/step - loss: 1.0515 - accuracy: 0.8942 - val_loss: 3.0130 - val_accuracy: 0.7449\n",
      "Epoch 11/15\n",
      "292/292 [==============================] - 455s 2s/step - loss: 1.0456 - accuracy: 0.8927 - val_loss: 0.4342 - val_accuracy: 0.9247\n",
      "Epoch 12/15\n",
      "292/292 [==============================] - 491s 2s/step - loss: 1.2862 - accuracy: 0.8809 - val_loss: 1.9513 - val_accuracy: 0.7988\n",
      "Epoch 13/15\n",
      "292/292 [==============================] - 452s 2s/step - loss: 1.1989 - accuracy: 0.8869 - val_loss: 0.9474 - val_accuracy: 0.8896\n",
      "Epoch 14/15\n",
      "292/292 [==============================] - 516s 2s/step - loss: 1.0689 - accuracy: 0.8916 - val_loss: 0.8529 - val_accuracy: 0.8964\n",
      "Epoch 15/15\n",
      "292/292 [==============================] - 523s 2s/step - loss: 0.8221 - accuracy: 0.9047 - val_loss: 4.5595 - val_accuracy: 0.6807\n"
     ]
    }
   ],
   "source": [
    "try:\n",
    "    config = ConfigurationManager()\n",
    "    training_config = config.get_training_config()\n",
    "    training = Training(config=training_config)\n",
    "    training.get_base_model()\n",
    "    training.train_valid_generator()\n",
    "    training.train()\n",
    "    \n",
    "except Exception as e:\n",
    "    raise e"
   ]
  },
  {
   "cell_type": "code",
   "execution_count": null,
   "metadata": {},
   "outputs": [],
   "source": []
  }
 ],
 "metadata": {
  "kernelspec": {
   "display_name": "Python 3",
   "language": "python",
   "name": "python3"
  },
  "language_info": {
   "codemirror_mode": {
    "name": "ipython",
    "version": 3
   },
   "file_extension": ".py",
   "mimetype": "text/x-python",
   "name": "python",
   "nbconvert_exporter": "python",
   "pygments_lexer": "ipython3",
   "version": "3.8.0"
  }
 },
 "nbformat": 4,
 "nbformat_minor": 2
}
